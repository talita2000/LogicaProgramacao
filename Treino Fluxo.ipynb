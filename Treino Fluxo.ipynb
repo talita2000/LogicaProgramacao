{
 "cells": [
  {
   "cell_type": "code",
   "execution_count": 1,
   "metadata": {},
   "outputs": [
    {
     "name": "stdout",
     "output_type": "stream",
     "text": [
      "oi 1\n"
     ]
    }
   ],
   "source": [
    "# Treinamento de como funciona o fluxo de um programa\n",
    "#1\n",
    "\n",
    "print(\"oi 1\")"
   ]
  },
  {
   "cell_type": "code",
   "execution_count": null,
   "metadata": {},
   "outputs": [],
   "source": [
    "# 2\n",
    "\n",
    "x = 1\n",
    "\n",
    "print(\"oi 1\")\n",
    "\n",
    "if x == 1:\n",
    "    print(\"oi 3\")\n",
    "    print(\"oi 4\")\n",
    "    if x > 0:\n",
    "        print(\"oi 6\")\n",
    "\n",
    "print(\"oi 5\")\n",
    "print(\"oi 2\")"
   ]
  },
  {
   "cell_type": "code",
   "execution_count": null,
   "metadata": {},
   "outputs": [],
   "source": [
    "x = 0      \n",
    "\n",
    "while True:        \n",
    "    print(\"oi\" ,x)\n",
    "    x = x + 1"
   ]
  },
  {
   "cell_type": "code",
   "execution_count": 9,
   "metadata": {},
   "outputs": [
    {
     "name": "stdout",
     "output_type": "stream",
     "text": [
      "Olá mundo 1\n",
      "Olá mundo 2\n",
      "Olá mundo 3\n",
      "Olá mundo 4\n",
      "Olá mundo 5\n"
     ]
    }
   ],
   "source": [
    "x = 1\n",
    "\n",
    "while x <= 5:\n",
    "  print(\"Olá mundo\" , x)   \n",
    "  x +=1\n"
   ]
  },
  {
   "cell_type": "code",
   "execution_count": 11,
   "metadata": {},
   "outputs": [
    {
     "name": "stdout",
     "output_type": "stream",
     "text": [
      "Olá mundo 10\n",
      "Olá mundo 11\n",
      "Olá mundo 12\n",
      "Olá mundo 13\n",
      "Olá mundo 14\n",
      "Olá mundo 15\n"
     ]
    }
   ],
   "source": [
    "x = 10\n",
    "\n",
    "while x <=15:\n",
    "    print(\"Olá mundo\" , x)\n",
    "    x = x + 1"
   ]
  },
  {
   "cell_type": "code",
   "execution_count": 13,
   "metadata": {},
   "outputs": [
    {
     "name": "stdout",
     "output_type": "stream",
     "text": [
      "1\n",
      "2\n",
      "3\n",
      "4\n",
      "5\n"
     ]
    }
   ],
   "source": [
    "x = 1\n",
    "while x <=5:\n",
    "    print(x)\n",
    "    x = x + 1"
   ]
  },
  {
   "cell_type": "code",
   "execution_count": 3,
   "metadata": {},
   "outputs": [
    {
     "name": "stdout",
     "output_type": "stream",
     "text": [
      "A soma dos 5 valores é: 15\n"
     ]
    }
   ],
   "source": [
    "soma = 0\n",
    "contador = 0\n",
    "\n",
    "while contador < 5:\n",
    "    valor = int(input(\"Digite um valor: \"))  \n",
    "    soma += valor  \n",
    "    contador += 1  \n",
    "\n",
    "print(\"A soma dos 5 valores é:\", soma)\n"
   ]
  },
  {
   "cell_type": "code",
   "execution_count": 7,
   "metadata": {},
   "outputs": [
    {
     "name": "stdout",
     "output_type": "stream",
     "text": [
      "O valor inserido é maior que 10. programa encerrado. \n"
     ]
    }
   ],
   "source": [
    "while True:\n",
    "    valor = int(input(\"Digite um valor: \")) \n",
    "\n",
    "    if valor > 10:\n",
    "        print(\"O valor inserido é maior que 10. programa encerrado. \")\n",
    "        break\n",
    "\n"
   ]
  },
  {
   "cell_type": "code",
   "execution_count": 15,
   "metadata": {},
   "outputs": [
    {
     "name": "stdout",
     "output_type": "stream",
     "text": [
      "a soma dos valores é 3\n",
      "a soma dos valores é 6\n",
      "a soma dos valores é 9\n",
      "a soma dos valores é 12\n",
      "a soma dos valores é 15\n"
     ]
    }
   ],
   "source": [
    "soma = 0\n",
    "contador = 1\n",
    "\n",
    "while contador <=5:\n",
    "    valor = int(input(\"Digite um valor: \"))\n",
    "    soma = soma + valor\n",
    "    contador +=1\n",
    "\n",
    "    print(\"a soma dos valores é\" , soma )\n"
   ]
  }
 ],
 "metadata": {
  "kernelspec": {
   "display_name": "Python 3",
   "language": "python",
   "name": "python3"
  },
  "language_info": {
   "codemirror_mode": {
    "name": "ipython",
    "version": 3
   },
   "file_extension": ".py",
   "mimetype": "text/x-python",
   "name": "python",
   "nbconvert_exporter": "python",
   "pygments_lexer": "ipython3",
   "version": "3.12.0"
  }
 },
 "nbformat": 4,
 "nbformat_minor": 2
}
