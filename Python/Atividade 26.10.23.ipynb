{
 "cells": [
  {
   "cell_type": "code",
   "execution_count": 1,
   "metadata": {},
   "outputs": [
    {
     "name": "stdout",
     "output_type": "stream",
     "text": [
      "8\n"
     ]
    }
   ],
   "source": [
    "#Questao 1\n",
    "\n",
    "print(3+5)"
   ]
  },
  {
   "cell_type": "code",
   "execution_count": 3,
   "metadata": {},
   "outputs": [
    {
     "name": "stdout",
     "output_type": "stream",
     "text": [
      "Olá mundo!\n"
     ]
    }
   ],
   "source": [
    "#Questao 2\n",
    "\n",
    "print(\"Olá mundo!\")"
   ]
  },
  {
   "cell_type": "code",
   "execution_count": 3,
   "metadata": {},
   "outputs": [
    {
     "name": "stdout",
     "output_type": "stream",
     "text": [
      "minha idade é 30 anos\n"
     ]
    }
   ],
   "source": [
    "#Questao 3\n",
    "\n",
    "idade = 30\n",
    "print(f\"minha idade é {idade} anos\")"
   ]
  },
  {
   "cell_type": "code",
   "execution_count": 10,
   "metadata": {},
   "outputs": [
    {
     "name": "stdout",
     "output_type": "stream",
     "text": [
      "6\n"
     ]
    }
   ],
   "source": [
    "#Questao 4\n",
    "#bug: print ta mstrando valor fixo nao a variavel\n",
    "numero = int(input(6))\n",
    "print(\"6\")\n"
   ]
  },
  {
   "cell_type": "code",
   "execution_count": 12,
   "metadata": {},
   "outputs": [
    {
     "name": "stdout",
     "output_type": "stream",
     "text": [
      "Olá, Alice\n"
     ]
    }
   ],
   "source": [
    "#Questao 5\n",
    "#bug: falta exclamação\n",
    "nome = \"Alice\"\n",
    "print(f\"Olá, {nome}\")"
   ]
  },
  {
   "cell_type": "code",
   "execution_count": 17,
   "metadata": {},
   "outputs": [
    {
     "name": "stdout",
     "output_type": "stream",
     "text": [
      "True\n"
     ]
    }
   ],
   "source": [
    "#Questao 6\n",
    "#dica: programa pode ser feito com apenas 1 linha\n",
    "a = 7\n",
    "b = 3\n",
    "\n",
    "print (a>b)"
   ]
  },
  {
   "cell_type": "code",
   "execution_count": 14,
   "metadata": {},
   "outputs": [
    {
     "name": "stdout",
     "output_type": "stream",
     "text": [
      "o seu nome é talita e voce é menor de idade\n"
     ]
    }
   ],
   "source": [
    "#Questao 7\n",
    "\n",
    "nome = input(\"Digite seu nome\")\n",
    "idade = int(input(\"Digite sua idade\"))\n",
    "\n",
    "if idade>=18:\n",
    "    print(f\"o seu nome é {nome} e voce é maior de idade\")\n",
    "else:\n",
    "    print(f\"o seu nome é {nome} e voce é menor de idade\")    "
   ]
  },
  {
   "cell_type": "code",
   "execution_count": 14,
   "metadata": {},
   "outputs": [
    {
     "name": "stdout",
     "output_type": "stream",
     "text": [
      "positivo.\n"
     ]
    }
   ],
   "source": [
    "#Questao 8\n",
    "\n",
    "numero = int(input(\"insira um numero\"))\n",
    "\n",
    "if numero >0:\n",
    "    print(\"positivo.\")\n",
    "else:\n",
    "    print(\"negativo.\")"
   ]
  },
  {
   "cell_type": "code",
   "execution_count": 8,
   "metadata": {},
   "outputs": [],
   "source": [
    "#Questao 9\n",
    "\n",
    "nota = 6\n",
    "\n",
    "if nota >=7:\n",
    "    print (\"Aprovado\")\n",
    "else:\n",
    "    print(\"reprovado\")"
   ]
  },
  {
   "cell_type": "code",
   "execution_count": 21,
   "metadata": {},
   "outputs": [
    {
     "name": "stdout",
     "output_type": "stream",
     "text": [
      "sua idade, 25 e voce é maior de idade\n"
     ]
    }
   ],
   "source": [
    "#Questao 10\n",
    "\n",
    "idade = 25\n",
    "\n",
    "if idade >= 18:\n",
    " print(f\"sua idade, {idade} e voce é maior de idade\")\n",
    "\n",
    "else:  \n",
    "  print(f\"sua idade, {idade} e voce é menor de idade\")"
   ]
  }
 ],
 "metadata": {
  "kernelspec": {
   "display_name": "Python 3",
   "language": "python",
   "name": "python3"
  },
  "language_info": {
   "codemirror_mode": {
    "name": "ipython",
    "version": 3
   },
   "file_extension": ".py",
   "mimetype": "text/x-python",
   "name": "python",
   "nbconvert_exporter": "python",
   "pygments_lexer": "ipython3",
   "version": "3.12.0"
  }
 },
 "nbformat": 4,
 "nbformat_minor": 2
}
