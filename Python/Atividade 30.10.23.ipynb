{
 "cells": [
  {
   "cell_type": "code",
   "execution_count": 7,
   "metadata": {},
   "outputs": [
    {
     "name": "stdout",
     "output_type": "stream",
     "text": [
      "O resultado da soma destes números é 110\n"
     ]
    }
   ],
   "source": [
    "#Questão 1\n",
    "\n",
    "n1 = int(input(\"Digite o primeiro número: \"))\n",
    "n2 = int(input(\"Digite o segundo número: \"))\n",
    "\n",
    "print(f\"O resultado da soma destes números é {n1 + n2}\")\n"
   ]
  },
  {
   "cell_type": "code",
   "execution_count": 19,
   "metadata": {},
   "outputs": [
    {
     "name": "stdout",
     "output_type": "stream",
     "text": [
      "Correto!\n"
     ]
    }
   ],
   "source": [
    "#Questão 2\n",
    "\n",
    "fruta = \"banana\"\n",
    "suposicao = input(\"advinhe a fruta: \").lower()\n",
    "\n",
    "if suposicao == fruta:\n",
    "    print(\"Correto!\")\n",
    "else:\n",
    "    print(\"Incorreto!\")\n"
   ]
  },
  {
   "cell_type": "code",
   "execution_count": 32,
   "metadata": {},
   "outputs": [
    {
     "name": "stdout",
     "output_type": "stream",
     "text": [
      "Dentro do intervalo\n"
     ]
    }
   ],
   "source": [
    "#Questão 3\n",
    "\n",
    "numero = int(input(\"Digite um número\"))\n",
    "\n",
    "if numero >= 1 and numero <= 10:\n",
    "    print(\"Dentro do intervalo\")\n",
    "else:\n",
    "    print(\"Fora do intervalo\")\n"
   ]
  },
  {
   "cell_type": "code",
   "execution_count": 38,
   "metadata": {},
   "outputs": [
    {
     "name": "stdout",
     "output_type": "stream",
     "text": [
      "Saldo negativo\n"
     ]
    }
   ],
   "source": [
    "#Questão 4\n",
    "\n",
    "saldo = -1\n",
    "\n",
    "if saldo > 0:\n",
    "    print(\"Saldo positivo\")\n",
    "elif saldo == 0:\n",
    "    print(\"Saldo zero\")\n",
    "else:\n",
    "    print(\"Saldo negativo\")\n",
    "\n"
   ]
  },
  {
   "cell_type": "code",
   "execution_count": 44,
   "metadata": {},
   "outputs": [
    {
     "name": "stdout",
     "output_type": "stream",
     "text": [
      "A temperatura em Fahrenheit é 77.9\n"
     ]
    }
   ],
   "source": [
    "#Questão 5\n",
    "\n",
    "temperatura = 25.5\n",
    "\n",
    "fahrenheit = temperatura * 9/5 + 32\n",
    "\n",
    "print(\"A temperatura em Fahrenheit é\", fahrenheit)\n"
   ]
  }
 ],
 "metadata": {
  "kernelspec": {
   "display_name": "Python 3",
   "language": "python",
   "name": "python3"
  },
  "language_info": {
   "codemirror_mode": {
    "name": "ipython",
    "version": 3
   },
   "file_extension": ".py",
   "mimetype": "text/x-python",
   "name": "python",
   "nbconvert_exporter": "python",
   "pygments_lexer": "ipython3",
   "version": "3.12.0"
  }
 },
 "nbformat": 4,
 "nbformat_minor": 2
}
