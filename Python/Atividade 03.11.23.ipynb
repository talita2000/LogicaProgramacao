{
 "cells": [
  {
   "cell_type": "code",
   "execution_count": 1,
   "metadata": {},
   "outputs": [
    {
     "name": "stdout",
     "output_type": "stream",
     "text": [
      "O valor total da soma dos números pares é: 18\n"
     ]
    }
   ],
   "source": [
    "#Questão 1\n",
    "\n",
    "total = 0  \n",
    "contador = 0  \n",
    "\n",
    "while contador < 5:\n",
    "    numero = int(input(\"Insira um número: \"))  \n",
    "\n",
    "    if numero % 2 == 0: \n",
    "        total += numero  \n",
    "        contador += 1  \n",
    "\n",
    "print(\"O valor total da soma dos números pares é:\", total)\n"
   ]
  },
  {
   "cell_type": "code",
   "execution_count": 2,
   "metadata": {},
   "outputs": [
    {
     "name": "stdout",
     "output_type": "stream",
     "text": [
      "O maior número inserido é: 9.0\n"
     ]
    }
   ],
   "source": [
    "#Questão 2\n",
    "\n",
    "maior = None \n",
    "for i in range(5):\n",
    "    numero = float(input(f\"Insira o {i + 1}º número: \"))  \n",
    "    if maior is None or numero > maior: \n",
    "        maior = numero\n",
    "\n",
    "print(f\"O maior número inserido é: {maior}\")\n"
   ]
  },
  {
   "cell_type": "code",
   "execution_count": 3,
   "metadata": {},
   "outputs": [
    {
     "name": "stdout",
     "output_type": "stream",
     "text": [
      "1\n",
      "3\n",
      "5\n",
      "7\n",
      "9\n"
     ]
    }
   ],
   "source": [
    "#Questão 3\n",
    "\n",
    "numero = 1  \n",
    "while numero <= 10: \n",
    "    if numero % 2 != 0: \n",
    "        print(numero)  \n",
    "    numero += 1 \n"
   ]
  },
  {
   "cell_type": "code",
   "execution_count": 4,
   "metadata": {},
   "outputs": [
    {
     "name": "stdout",
     "output_type": "stream",
     "text": [
      "1\n",
      "2\n",
      "3\n",
      "4\n",
      "5\n",
      "6\n",
      "7\n",
      "8\n",
      "9\n"
     ]
    }
   ],
   "source": [
    "#Questão 4\n",
    "\n",
    "numero_limite = int(input(\"Informe até qual número deseja fazer a contagem: \")) \n",
    "contador = 1  \n",
    "\n",
    "while contador <= numero_limite:  \n",
    "    print(contador)  \n",
    "    contador += 1 \n"
   ]
  },
  {
   "cell_type": "code",
   "execution_count": null,
   "metadata": {},
   "outputs": [],
   "source": []
  }
 ],
 "metadata": {
  "kernelspec": {
   "display_name": "Python 3",
   "language": "python",
   "name": "python3"
  },
  "language_info": {
   "codemirror_mode": {
    "name": "ipython",
    "version": 3
   },
   "file_extension": ".py",
   "mimetype": "text/x-python",
   "name": "python",
   "nbconvert_exporter": "python",
   "pygments_lexer": "ipython3",
   "version": "3.12.0"
  }
 },
 "nbformat": 4,
 "nbformat_minor": 2
}
