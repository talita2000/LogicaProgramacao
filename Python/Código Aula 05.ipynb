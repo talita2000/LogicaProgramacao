{
 "cells": [
  {
   "cell_type": "code",
   "execution_count": 1,
   "metadata": {},
   "outputs": [
    {
     "name": "stdout",
     "output_type": "stream",
     "text": [
      "[1, 2, 3]\n"
     ]
    }
   ],
   "source": [
    "# Lista\n",
    "\n",
    "lista = [1, 2, 3]\n",
    "lista_nomes = [\"ramon\", \"jose\", \"maria\"]\n",
    "\n",
    "# Como apresentar uma lista inteira\n",
    "print(lista)"
   ]
  },
  {
   "cell_type": "code",
   "execution_count": 2,
   "metadata": {},
   "outputs": [
    {
     "name": "stdout",
     "output_type": "stream",
     "text": [
      "1\n",
      "2\n",
      "3\n"
     ]
    }
   ],
   "source": [
    "# Como setar apenas um valor da lista\n",
    "lista = [1, 2, 3]\n",
    "print(lista[0]) # toda lista começa da posição 0\n",
    "print(lista[1])\n",
    "print(lista[2]) # tamanho máximo da lista que criamos na linha 50"
   ]
  },
  {
   "cell_type": "code",
   "execution_count": 3,
   "metadata": {},
   "outputs": [
    {
     "name": "stdout",
     "output_type": "stream",
     "text": [
      "ramon\n",
      "jose\n",
      "maria\n"
     ]
    }
   ],
   "source": [
    "# For em uma lista\n",
    "lista_nomes = [\"ramon\", \"jose\", \"maria\"]\n",
    "for nome in lista_nomes:\n",
    "  print(nome)"
   ]
  },
  {
   "cell_type": "code",
   "execution_count": 4,
   "metadata": {},
   "outputs": [
    {
     "name": "stdout",
     "output_type": "stream",
     "text": [
      "['artur', 'jose', 'maria']\n",
      "['artur', 'jose', 'josefa']\n"
     ]
    }
   ],
   "source": [
    "# Como alterar um valor da lista\n",
    "lista_nomes = [\"artur\", \"jose\", \"maria\"]\n",
    "print(lista_nomes)\n",
    "\n",
    "lista_nomes[2] = \"josefa\"\n",
    "print(lista_nomes)"
   ]
  },
  {
   "cell_type": "code",
   "execution_count": 5,
   "metadata": {},
   "outputs": [
    {
     "name": "stdout",
     "output_type": "stream",
     "text": [
      "3\n"
     ]
    }
   ],
   "source": [
    "# Saber o tamanho da lista\n",
    "lista_nomes = [\"artur\", \"jose\", \"maria\"]\n",
    "print(len(lista_nomes))"
   ]
  },
  {
   "cell_type": "code",
   "execution_count": 6,
   "metadata": {},
   "outputs": [
    {
     "name": "stdout",
     "output_type": "stream",
     "text": [
      "['artur', 'jose', 'maria']\n",
      "['artur', 'jose', 'maria', 'Ramon']\n"
     ]
    }
   ],
   "source": [
    "# Como adicionar elementos na lista\n",
    "lista_nomes = [\"artur\", \"jose\", \"maria\"]\n",
    "print(lista_nomes)\n",
    "lista_nomes.append(\"Ramon\")\n",
    "print(lista_nomes)"
   ]
  },
  {
   "cell_type": "code",
   "execution_count": 7,
   "metadata": {},
   "outputs": [
    {
     "name": "stdout",
     "output_type": "stream",
     "text": [
      "['artur', 'jose']\n"
     ]
    }
   ],
   "source": [
    "# Como remover um elemento da lista\n",
    "lista_nomes = [\"artur\", \"jose\", \"maria\"]\n",
    "del lista_nomes[2]\n",
    "print(lista_nomes)"
   ]
  },
  {
   "cell_type": "code",
   "execution_count": 8,
   "metadata": {},
   "outputs": [
    {
     "name": "stdout",
     "output_type": "stream",
     "text": [
      "[1, 2, 3]\n",
      "4\n",
      "Seu carrinho de compras é: [['Maçã', 2, 5.5], ['Coca-cola', 1, 7.5], ['Biscoito', 3, 3.5]]\n"
     ]
    }
   ],
   "source": [
    "# Matriz (lista dentro de uma lista)\n",
    "matriz = [[1, 2, 3],\n",
    "          [4, 5, 6],\n",
    "          [7, 8, 9]]\n",
    "\n",
    "# Imprimindo a linha 0 = [1, 2, 3]\n",
    "print(matriz[0])\n",
    "\n",
    "# Imprimindo o valor 1 = \"2\" da linha 0 = [1, 2, 3]\n",
    "print(matriz[1][0])\n",
    "\n",
    "# Exemplo de listas\n",
    "carrinho_de_compras = []\n",
    "\n",
    "# [nome do produto, quantidade, valor unitário]\n",
    "produto1 = [\"Maçã\", 2, 5.5]\n",
    "carrinho_de_compras.append(produto1) # Adicionando o produto 1 no carrinho\n",
    "\n",
    "produto2 = [\"Coca-cola\", 1, 7.5]\n",
    "carrinho_de_compras.append(produto2) # Adicionando o produto 2 no carrinho\n",
    "\n",
    "produto3 = [\"Biscoito\", 3, 3.5]\n",
    "carrinho_de_compras.append(produto3) # Adicionando o produto 3 no carrinho\n",
    "\n",
    "print(f\"Seu carrinho de compras é: {carrinho_de_compras}\")"
   ]
  }
 ],
 "metadata": {
  "kernelspec": {
   "display_name": "Python 3",
   "language": "python",
   "name": "python3"
  },
  "language_info": {
   "codemirror_mode": {
    "name": "ipython",
    "version": 3
   },
   "file_extension": ".py",
   "mimetype": "text/x-python",
   "name": "python",
   "nbconvert_exporter": "python",
   "pygments_lexer": "ipython3",
   "version": "3.12.0"
  }
 },
 "nbformat": 4,
 "nbformat_minor": 2
}
